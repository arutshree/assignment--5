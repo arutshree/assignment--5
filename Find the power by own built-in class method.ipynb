{
 "cells": [
  {
   "cell_type": "code",
   "execution_count": 3,
   "id": "a61c456a",
   "metadata": {},
   "outputs": [
    {
     "name": "stdout",
     "output_type": "stream",
     "text": [
      "100\n"
     ]
    }
   ],
   "source": [
    "#Write a Python class to implement pow(x, n)\n",
    "\n",
    "# Function to calculate x\n",
    "# raised to the power n\n",
    "\n",
    "\n",
    "def power(x, n):\n",
    "    if (n == 0):\n",
    "        return 1\n",
    "    elif (int(n % 2) == 0):\n",
    "        return (power(x, int(n / 2)) * power(x, int(n / 2)))\n",
    "    else:\n",
    "        return (x * power(x, int(n / 2)) * power(x, int(n / 2)))\n",
    " \n",
    "# Driver Code\n",
    "x = 10; n = 2\n",
    "print(power(x, n))"
   ]
  },
  {
   "cell_type": "code",
   "execution_count": null,
   "id": "4e6dfef6",
   "metadata": {},
   "outputs": [],
   "source": []
  }
 ],
 "metadata": {
  "kernelspec": {
   "display_name": "Python 3",
   "language": "python",
   "name": "python3"
  },
  "language_info": {
   "codemirror_mode": {
    "name": "ipython",
    "version": 3
   },
   "file_extension": ".py",
   "mimetype": "text/x-python",
   "name": "python",
   "nbconvert_exporter": "python",
   "pygments_lexer": "ipython3",
   "version": "3.8.8"
  }
 },
 "nbformat": 4,
 "nbformat_minor": 5
}
